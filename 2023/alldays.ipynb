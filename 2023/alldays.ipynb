{
 "cells": [
  {
   "cell_type": "markdown",
   "id": "74ca68d7-c121-483f-a128-d8df4e9b0823",
   "metadata": {},
   "source": [
    "# Advent of code 2023"
   ]
  },
  {
   "cell_type": "markdown",
   "id": "59834922-05d9-4949-8d24-c4d891ce1b5a",
   "metadata": {},
   "source": [
    "# Day 1\n",
    "https://adventofcode.com/2023/day/1"
   ]
  },
  {
   "cell_type": "markdown",
   "id": "4693ef0d-254e-4cef-8d3f-79b9fa6509c6",
   "metadata": {},
   "source": [
    "## Part 1\n",
    "Your puzzle answer was 55123."
   ]
  },
  {
   "cell_type": "code",
   "execution_count": 1,
   "id": "b257a54b-c5b3-4f78-a6c3-0e474219aec4",
   "metadata": {},
   "outputs": [
    {
     "name": "stdout",
     "output_type": "stream",
     "text": [
      "55123\n"
     ]
    }
   ],
   "source": [
    "from io import StringIO\n",
    "\n",
    "inputstr = \"\"\"1abc2\n",
    "pqr3stu8vwx\n",
    "a1b2c3d4e5f\n",
    "treb7uchet\n",
    "\"\"\"\n",
    "testinput = StringIO(inputstr)\n",
    "\n",
    "\n",
    "def get_cal(s):\n",
    "    for c in s:\n",
    "        if c.isdigit():\n",
    "            f = c\n",
    "            break\n",
    "    for c in s[::-1]:\n",
    "        if c.isdigit():\n",
    "            l = c\n",
    "            break\n",
    "    return int(f + l)\n",
    "\n",
    "\n",
    "f = open(\"1_input.txt\")\n",
    "# f = testinput\n",
    "sum_cal = 0\n",
    "for l in f:\n",
    "    # print(l, get_cal(l))\n",
    "    sum_cal += get_cal(l)\n",
    "print(sum_cal)\n",
    "f.close()"
   ]
  },
  {
   "cell_type": "markdown",
   "id": "f7339db3-4c33-4375-8842-fef0659563a0",
   "metadata": {},
   "source": [
    "## Part 2\n",
    "Your puzzle answer was 55260."
   ]
  },
  {
   "cell_type": "code",
   "execution_count": 3,
   "id": "9326c844-f098-4ad1-a7c0-60fe5e796d2e",
   "metadata": {},
   "outputs": [
    {
     "name": "stdout",
     "output_type": "stream",
     "text": [
      "55260\n"
     ]
    }
   ],
   "source": [
    "from io import StringIO\n",
    "\n",
    "inputstr = \"\"\"two1nine\n",
    "eightwothree\n",
    "abcone2threexyz\n",
    "xtwone3four\n",
    "4nineeightseven2\n",
    "zoneight234\n",
    "7pqrstsixteen\n",
    "\"\"\"\n",
    "testinput = StringIO(inputstr)\n",
    "\n",
    "digits = {\n",
    "    \"one\": \"1\",\n",
    "    \"two\": \"2\",\n",
    "    \"three\": \"3\",\n",
    "    \"four\": \"4\",\n",
    "    \"five\": \"5\",\n",
    "    \"six\": \"6\",\n",
    "    \"seven\": \"7\",\n",
    "    \"eight\": \"8\",\n",
    "    \"nine\": \"9\",\n",
    "}\n",
    "\n",
    "\n",
    "def isdigit(s, reverse=False):\n",
    "    if s[0].isdigit():\n",
    "        return s[0]\n",
    "    for k, v in digits.items():\n",
    "        if (not reverse and s.startswith(k)) or (reverse and s.startswith(k[::-1])):\n",
    "            return v\n",
    "    return None\n",
    "\n",
    "\n",
    "def get_cal(s):\n",
    "    s_rev = s[::-1]\n",
    "    for i in range(len(s)):\n",
    "        if v := isdigit(s[i:]):\n",
    "            f = v\n",
    "            break\n",
    "    for i in range(len(s_rev)):\n",
    "        if v := isdigit(s_rev[i:], True):\n",
    "            l = v\n",
    "            break\n",
    "    return int(f + l)\n",
    "\n",
    "\n",
    "f = open(\"1_input.txt\")\n",
    "# f = testinput\n",
    "sum_cal = 0\n",
    "for l in f:\n",
    "    # print(l, get_cal(l))\n",
    "    sum_cal += get_cal(l)\n",
    "print(sum_cal)\n",
    "f.close()"
   ]
  },
  {
   "cell_type": "markdown",
   "id": "c9496b30-7d29-4acf-8cab-0ad79859c8dc",
   "metadata": {},
   "source": [
    "# Day 2\n",
    "https://adventofcode.com/2023/day/2"
   ]
  },
  {
   "cell_type": "markdown",
   "id": "bd09bdbc-3a48-4b68-b273-7ed2cf13bcb1",
   "metadata": {},
   "source": [
    "## Part 1\n",
    "Your puzzle answer was 2169."
   ]
  },
  {
   "cell_type": "code",
   "execution_count": 7,
   "id": "f3875851-4a76-46e9-b493-559b9da534e8",
   "metadata": {},
   "outputs": [
    {
     "name": "stdout",
     "output_type": "stream",
     "text": [
      "2169\n"
     ]
    }
   ],
   "source": [
    "from collections import defaultdict\n",
    "from io import StringIO\n",
    "\n",
    "inputstr = \"\"\"Game 1: 3 blue, 4 red; 1 red, 2 green, 6 blue; 2 green\n",
    "Game 2: 1 blue, 2 green; 3 green, 4 blue, 1 red; 1 green, 1 blue\n",
    "Game 3: 8 green, 6 blue, 20 red; 5 blue, 4 red, 13 green; 5 green, 1 red\n",
    "Game 4: 1 green, 3 red, 6 blue; 3 green, 6 red; 3 green, 15 blue, 14 red\n",
    "Game 5: 6 red, 1 blue, 3 green; 2 blue, 1 red, 2 green\n",
    "\"\"\"\n",
    "testinput = StringIO(inputstr)\n",
    "\n",
    "f = open('2_input.txt')\n",
    "# f = testinput\n",
    "possibles = []\n",
    "i = 1\n",
    "for l in f:\n",
    "    cd = defaultdict(int)\n",
    "    id = i\n",
    "    l = l[l.find(\":\") + 1 :]\n",
    "    sets = l.split(\";\")\n",
    "    for s in sets:\n",
    "        cubes = s.strip().split(\",\")\n",
    "        for cube in cubes:\n",
    "            n, c = cube.strip().split(\" \")\n",
    "            cd[c] = max(cd[c], int(n))\n",
    "    i += 1\n",
    "    if cd[\"red\"] <= 12 and cd[\"green\"] <= 13 and cd[\"blue\"] <= 14:\n",
    "        possibles.append(id)\n",
    "\n",
    "print(sum(possibles))\n",
    "f.close()"
   ]
  },
  {
   "cell_type": "markdown",
   "id": "49c5a8d1-eaeb-453c-bc3f-19c672c5f3dc",
   "metadata": {},
   "source": [
    "## Part 2\n",
    "Your puzzle answer was 60948."
   ]
  },
  {
   "cell_type": "code",
   "execution_count": 6,
   "id": "8825ce1b-01f6-47d6-a1dc-abddcdac4d69",
   "metadata": {},
   "outputs": [
    {
     "name": "stdout",
     "output_type": "stream",
     "text": [
      "60948\n"
     ]
    }
   ],
   "source": [
    "from collections import defaultdict\n",
    "from io import StringIO\n",
    "\n",
    "inputstr = \"\"\"Game 1: 3 blue, 4 red; 1 red, 2 green, 6 blue; 2 green\n",
    "Game 2: 1 blue, 2 green; 3 green, 4 blue, 1 red; 1 green, 1 blue\n",
    "Game 3: 8 green, 6 blue, 20 red; 5 blue, 4 red, 13 green; 5 green, 1 red\n",
    "Game 4: 1 green, 3 red, 6 blue; 3 green, 6 red; 3 green, 15 blue, 14 red\n",
    "Game 5: 6 red, 1 blue, 3 green; 2 blue, 1 red, 2 green\n",
    "\"\"\"\n",
    "# testinput = StringIO(inputstr)\n",
    "# f = testinput\n",
    "f = open(\"2_input.txt\")\n",
    "\n",
    "\n",
    "possibles = []\n",
    "power = 0\n",
    "i = 1\n",
    "for l in f:\n",
    "    cd = defaultdict(int)\n",
    "    id = i\n",
    "    l = l[l.find(\":\") + 1 :]\n",
    "    sets = l.split(\";\")\n",
    "    for s in sets:\n",
    "        cubes = s.strip().split(\",\")\n",
    "        for cube in cubes:\n",
    "            n, c = cube.strip().split(\" \")\n",
    "            cd[c] = max(cd[c], int(n))\n",
    "    i += 1\n",
    "    power += cd[\"red\"] * cd[\"green\"] * cd[\"blue\"]\n",
    "\n",
    "print(power)\n",
    "f.close()"
   ]
  },
  {
   "cell_type": "code",
   "execution_count": null,
   "id": "18082c56-4e63-4c90-94c7-a34cba8934c7",
   "metadata": {},
   "outputs": [],
   "source": []
  }
 ],
 "metadata": {
  "kernelspec": {
   "display_name": "Python 3 (ipykernel)",
   "language": "python",
   "name": "python3"
  },
  "language_info": {
   "codemirror_mode": {
    "name": "ipython",
    "version": 3
   },
   "file_extension": ".py",
   "mimetype": "text/x-python",
   "name": "python",
   "nbconvert_exporter": "python",
   "pygments_lexer": "ipython3",
   "version": "3.9.16"
  }
 },
 "nbformat": 4,
 "nbformat_minor": 5
}
