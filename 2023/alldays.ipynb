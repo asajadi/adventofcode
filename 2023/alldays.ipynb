{
 "cells": [
  {
   "cell_type": "markdown",
   "id": "74ca68d7-c121-483f-a128-d8df4e9b0823",
   "metadata": {},
   "source": [
    "# Advent of code 2023"
   ]
  },
  {
   "cell_type": "markdown",
   "id": "59834922-05d9-4949-8d24-c4d891ce1b5a",
   "metadata": {},
   "source": [
    "# Day 1\n",
    "https://adventofcode.com/2023/day/1"
   ]
  },
  {
   "cell_type": "markdown",
   "id": "4693ef0d-254e-4cef-8d3f-79b9fa6509c6",
   "metadata": {},
   "source": [
    "## Part 1\n",
    "Your puzzle answer was 55123."
   ]
  },
  {
   "cell_type": "code",
   "execution_count": 1,
   "id": "b257a54b-c5b3-4f78-a6c3-0e474219aec4",
   "metadata": {},
   "outputs": [
    {
     "name": "stdout",
     "output_type": "stream",
     "text": [
      "55123\n"
     ]
    }
   ],
   "source": [
    "from io import StringIO\n",
    "\n",
    "inputstr = \"\"\"1abc2\n",
    "pqr3stu8vwx\n",
    "a1b2c3d4e5f\n",
    "treb7uchet\n",
    "\"\"\"\n",
    "testinput = StringIO(inputstr)\n",
    "\n",
    "\n",
    "def get_cal(s):\n",
    "    for c in s:\n",
    "        if c.isdigit():\n",
    "            f = c\n",
    "            break\n",
    "    for c in s[::-1]:\n",
    "        if c.isdigit():\n",
    "            l = c\n",
    "            break\n",
    "    return int(f + l)\n",
    "\n",
    "\n",
    "f = open(\"1_input.txt\")\n",
    "# f = testinput\n",
    "sum_cal = 0\n",
    "for l in f:\n",
    "    # print(l, get_cal(l))\n",
    "    sum_cal += get_cal(l)\n",
    "print(sum_cal)\n",
    "f.close()"
   ]
  },
  {
   "cell_type": "markdown",
   "id": "f7339db3-4c33-4375-8842-fef0659563a0",
   "metadata": {},
   "source": [
    "## Part 2\n",
    "Your puzzle answer was 55260."
   ]
  },
  {
   "cell_type": "code",
   "execution_count": 2,
   "id": "9326c844-f098-4ad1-a7c0-60fe5e796d2e",
   "metadata": {},
   "outputs": [
    {
     "name": "stdout",
     "output_type": "stream",
     "text": [
      "55260\n"
     ]
    }
   ],
   "source": [
    "from io import StringIO\n",
    "\n",
    "inputstr = \"\"\"two1nine\n",
    "eightwothree\n",
    "abcone2threexyz\n",
    "xtwone3four\n",
    "4nineeightseven2\n",
    "zoneight234\n",
    "7pqrstsixteen\n",
    "\"\"\"\n",
    "testinput = StringIO(inputstr)\n",
    "\n",
    "digits = {\n",
    "    \"one\": \"1\",\n",
    "    \"two\": \"2\",\n",
    "    \"three\": \"3\",\n",
    "    \"four\": \"4\",\n",
    "    \"five\": \"5\",\n",
    "    \"six\": \"6\",\n",
    "    \"seven\": \"7\",\n",
    "    \"eight\": \"8\",\n",
    "    \"nine\": \"9\",\n",
    "}\n",
    "\n",
    "\n",
    "def isdigit(s, reverse=False):\n",
    "    if s[0].isdigit():\n",
    "        return s[0]\n",
    "    for k, v in digits.items():\n",
    "        if (not reverse and s.startswith(k)) or (reverse and s.startswith(k[::-1])):\n",
    "            return v\n",
    "    return None\n",
    "\n",
    "\n",
    "def get_cal(s):\n",
    "    s_rev = s[::-1]\n",
    "    for i in range(len(s)):\n",
    "        if v := isdigit(s[i:]):\n",
    "            f = v\n",
    "            break\n",
    "    for i in range(len(s_rev)):\n",
    "        if v := isdigit(s_rev[i:], True):\n",
    "            l = v\n",
    "            break\n",
    "    return int(f + l)\n",
    "\n",
    "\n",
    "f = open(\"1_input.txt\")\n",
    "# f = testinput\n",
    "sum_cal = 0\n",
    "for l in f:\n",
    "    # print(l, get_cal(l))\n",
    "    sum_cal += get_cal(l)\n",
    "print(sum_cal)\n",
    "f.close()"
   ]
  },
  {
   "cell_type": "markdown",
   "id": "c9496b30-7d29-4acf-8cab-0ad79859c8dc",
   "metadata": {},
   "source": [
    "# Day 2\n",
    "https://adventofcode.com/2023/day/2"
   ]
  },
  {
   "cell_type": "markdown",
   "id": "bd09bdbc-3a48-4b68-b273-7ed2cf13bcb1",
   "metadata": {},
   "source": [
    "## Part 1\n",
    "Your puzzle answer was 2169."
   ]
  },
  {
   "cell_type": "code",
   "execution_count": 3,
   "id": "f3875851-4a76-46e9-b493-559b9da534e8",
   "metadata": {},
   "outputs": [
    {
     "name": "stdout",
     "output_type": "stream",
     "text": [
      "2169\n"
     ]
    }
   ],
   "source": [
    "from collections import defaultdict\n",
    "from io import StringIO\n",
    "\n",
    "inputstr = \"\"\"Game 1: 3 blue, 4 red; 1 red, 2 green, 6 blue; 2 green\n",
    "Game 2: 1 blue, 2 green; 3 green, 4 blue, 1 red; 1 green, 1 blue\n",
    "Game 3: 8 green, 6 blue, 20 red; 5 blue, 4 red, 13 green; 5 green, 1 red\n",
    "Game 4: 1 green, 3 red, 6 blue; 3 green, 6 red; 3 green, 15 blue, 14 red\n",
    "Game 5: 6 red, 1 blue, 3 green; 2 blue, 1 red, 2 green\n",
    "\"\"\"\n",
    "testinput = StringIO(inputstr)\n",
    "\n",
    "f = open(\"2_input.txt\")\n",
    "# f = testinput\n",
    "possibles = []\n",
    "i = 1\n",
    "for l in f:\n",
    "    cd = defaultdict(int)\n",
    "    id = i\n",
    "    l = l[l.find(\":\") + 1 :]\n",
    "    sets = l.split(\";\")\n",
    "    for s in sets:\n",
    "        cubes = s.strip().split(\",\")\n",
    "        for cube in cubes:\n",
    "            n, c = cube.strip().split(\" \")\n",
    "            cd[c] = max(cd[c], int(n))\n",
    "    i += 1\n",
    "    if cd[\"red\"] <= 12 and cd[\"green\"] <= 13 and cd[\"blue\"] <= 14:\n",
    "        possibles.append(id)\n",
    "\n",
    "print(sum(possibles))\n",
    "f.close()"
   ]
  },
  {
   "cell_type": "markdown",
   "id": "49c5a8d1-eaeb-453c-bc3f-19c672c5f3dc",
   "metadata": {},
   "source": [
    "## Part 2\n",
    "Your puzzle answer was 60948."
   ]
  },
  {
   "cell_type": "code",
   "execution_count": 4,
   "id": "8825ce1b-01f6-47d6-a1dc-abddcdac4d69",
   "metadata": {},
   "outputs": [
    {
     "name": "stdout",
     "output_type": "stream",
     "text": [
      "60948\n"
     ]
    }
   ],
   "source": [
    "from collections import defaultdict\n",
    "from io import StringIO\n",
    "\n",
    "inputstr = \"\"\"Game 1: 3 blue, 4 red; 1 red, 2 green, 6 blue; 2 green\n",
    "Game 2: 1 blue, 2 green; 3 green, 4 blue, 1 red; 1 green, 1 blue\n",
    "Game 3: 8 green, 6 blue, 20 red; 5 blue, 4 red, 13 green; 5 green, 1 red\n",
    "Game 4: 1 green, 3 red, 6 blue; 3 green, 6 red; 3 green, 15 blue, 14 red\n",
    "Game 5: 6 red, 1 blue, 3 green; 2 blue, 1 red, 2 green\n",
    "\"\"\"\n",
    "# testinput = StringIO(inputstr)\n",
    "# f = testinput\n",
    "f = open(\"2_input.txt\")\n",
    "\n",
    "\n",
    "possibles = []\n",
    "power = 0\n",
    "i = 1\n",
    "for l in f:\n",
    "    cd = defaultdict(int)\n",
    "    id = i\n",
    "    l = l[l.find(\":\") + 1 :]\n",
    "    sets = l.split(\";\")\n",
    "    for s in sets:\n",
    "        cubes = s.strip().split(\",\")\n",
    "        for cube in cubes:\n",
    "            n, c = cube.strip().split(\" \")\n",
    "            cd[c] = max(cd[c], int(n))\n",
    "    i += 1\n",
    "    power += cd[\"red\"] * cd[\"green\"] * cd[\"blue\"]\n",
    "\n",
    "print(power)\n",
    "f.close()"
   ]
  },
  {
   "cell_type": "markdown",
   "id": "fd7f4999-e083-40bc-b7b0-dacb042f412c",
   "metadata": {},
   "source": [
    "# Day 3"
   ]
  },
  {
   "cell_type": "markdown",
   "id": "f805a995-2be8-44d5-aec4-d17eccbcafb0",
   "metadata": {},
   "source": [
    "## Part 1\n",
    "Your puzzle answer was 498559."
   ]
  },
  {
   "cell_type": "code",
   "execution_count": 5,
   "id": "c7e98010-8d33-455c-a316-59ebb8f654f2",
   "metadata": {},
   "outputs": [
    {
     "name": "stdout",
     "output_type": "stream",
     "text": [
      "4361\n"
     ]
    }
   ],
   "source": [
    "import re\n",
    "from io import StringIO\n",
    "from itertools import product\n",
    "\n",
    "#ans: 4361\n",
    "inputstr = \"\"\"467..114..\n",
    "...*......\n",
    "..35..633.\n",
    "......#...\n",
    "617*......\n",
    ".....+.58.\n",
    "..592.....\n",
    "......755.\n",
    "...$.*....\n",
    ".664.598..\n",
    "\"\"\"\n",
    "testinput = StringIO(inputstr)\n",
    "\n",
    "\n",
    "# f = open(\"3_input.txt\")\n",
    "f = testinput\n",
    "\n",
    "\n",
    "def get_par_locs(schema, m, n):\n",
    "    part_locs = [[0 for i in range(m)] for j in range(n)]\n",
    "    for i, j in product(range(m), range(n)):\n",
    "        if schema[i][j].isdigit() or (schema[i][j] == \".\"):\n",
    "            continue\n",
    "        for x, y in product([-1, 0, 1], [-1, 0, 1]):\n",
    "            if 0 <= i + x < m and 0 <= j + y < n:\n",
    "                part_locs[i + x][j + y] = 1  # 0 [0][0] won't be a problem\n",
    "    return part_locs\n",
    "\n",
    "\n",
    "schema = [l.strip() for l in f.readlines()]\n",
    "m = len(schema)\n",
    "n = len(schema[0])\n",
    "\n",
    "part_locs = get_par_locs(schema, m, n)\n",
    "numbers = []\n",
    "for i, l in enumerate(schema):\n",
    "    for match in re.finditer(\"[\\d]+\", l):\n",
    "        for j in range(int(match.span()[0]), int(match.span()[1])):\n",
    "            if part_locs[i][j]:\n",
    "                numbers.append(int(match.group(0)))\n",
    "                break\n",
    "\n",
    "\n",
    "print(sum(numbers))"
   ]
  },
  {
   "cell_type": "markdown",
   "id": "f37bb8a3-b7fd-43ce-8e80-beb15efad49d",
   "metadata": {},
   "source": [
    "## Part 2\n",
    "Your puzzle answer was 72246648."
   ]
  },
  {
   "cell_type": "code",
   "execution_count": 6,
   "id": "fb674ee2-6321-47d4-9434-1456c7cfc68e",
   "metadata": {},
   "outputs": [
    {
     "name": "stdout",
     "output_type": "stream",
     "text": [
      "72246648\n"
     ]
    }
   ],
   "source": [
    "from itertools import product\n",
    "from io import StringIO\n",
    "from collections import defaultdict\n",
    "import re\n",
    "\n",
    "#ans: 467835\n",
    "inputstr = \"\"\"467..114..\n",
    "...*......\n",
    "..35..633.\n",
    "......#...\n",
    "617*......\n",
    ".....+.58.\n",
    "..592.....\n",
    "......755.\n",
    "...$.*....\n",
    ".664.598..\n",
    "\"\"\"\n",
    "testinput = StringIO(inputstr)\n",
    "\n",
    "\n",
    "\n",
    "f = open(\"3_input.txt\")\n",
    "# f = testinput\n",
    "\n",
    "def get_par_locs(schema, m, n):\n",
    "    part_locs = [[0 for _ in range(n)] for _ in range(m)]\n",
    "    star_id = 1\n",
    "    for i, j in product(range(m), range(n)):\n",
    "        if schema[i][j] != \"*\":\n",
    "            continue\n",
    "        for x, y in product([-1, 0, 1], [-1, 0, 1]):\n",
    "            if 0 <= i + x < m and 0 <= j + y < n:\n",
    "                part_locs[i + x][j + y] = star_id  # 0 [0][0] won't be a problem\n",
    "        star_id +=1\n",
    "    return part_locs\n",
    "\n",
    "\n",
    "schema = [l.strip() for l in f.readlines()]\n",
    "m = len(schema)\n",
    "n = len(schema[0])\n",
    "\n",
    "part_locs = get_par_locs(schema, m, n)\n",
    "\n",
    "numbers = defaultdict(list)\n",
    "for i, l in enumerate(schema):\n",
    "    for match in re.finditer('[\\d]+', l):\n",
    "        for  j in range(int(match.span()[0]), int(match.span()[1])):\n",
    "            if star_id := part_locs[i][j]:\n",
    "                    numbers[star_id].append(int(match.group(0)))\n",
    "                    break\n",
    "\n",
    "\n",
    "gear_ratio = 0 \n",
    "for g, possible_gear in numbers.items():\n",
    "    if len(possible_gear)==2:\n",
    "        gear_ratio += possible_gear[0] * possible_gear[1]\n",
    "print(gear_ratio)"
   ]
  },
  {
   "cell_type": "code",
   "execution_count": null,
   "id": "aab56237-2b04-4a18-9977-feed1dbc0ca3",
   "metadata": {},
   "outputs": [],
   "source": []
  }
 ],
 "metadata": {
  "kernelspec": {
   "display_name": "Python 3 (ipykernel)",
   "language": "python",
   "name": "python3"
  },
  "language_info": {
   "codemirror_mode": {
    "name": "ipython",
    "version": 3
   },
   "file_extension": ".py",
   "mimetype": "text/x-python",
   "name": "python",
   "nbconvert_exporter": "python",
   "pygments_lexer": "ipython3",
   "version": "3.9.16"
  }
 },
 "nbformat": 4,
 "nbformat_minor": 5
}
