{
 "cells": [
  {
   "cell_type": "markdown",
   "id": "74ca68d7-c121-483f-a128-d8df4e9b0823",
   "metadata": {},
   "source": [
    "# Advent of code 2023"
   ]
  },
  {
   "cell_type": "markdown",
   "id": "59834922-05d9-4949-8d24-c4d891ce1b5a",
   "metadata": {},
   "source": [
    "# 1"
   ]
  },
  {
   "cell_type": "markdown",
   "id": "4693ef0d-254e-4cef-8d3f-79b9fa6509c6",
   "metadata": {},
   "source": [
    "## part 1"
   ]
  },
  {
   "cell_type": "code",
   "execution_count": 9,
   "id": "b257a54b-c5b3-4f78-a6c3-0e474219aec4",
   "metadata": {},
   "outputs": [
    {
     "name": "stdout",
     "output_type": "stream",
     "text": [
      "54601\n"
     ]
    }
   ],
   "source": [
    "from io import StringIO\n",
    "\n",
    "inputstr = \"\"\"1abc2\n",
    "pqr3stu8vwx\n",
    "a1b2c3d4e5f\n",
    "treb7uchet\n",
    "\"\"\"\n",
    "testinput = StringIO(inputstr)\n",
    "\n",
    "\n",
    "def get_cal(s):\n",
    "    for c in s:\n",
    "        if c.isdigit():\n",
    "            f = c\n",
    "            break\n",
    "    for c in s[::-1]:\n",
    "        if c.isdigit():\n",
    "            l = c\n",
    "            break\n",
    "    return int(f + l)\n",
    "\n",
    "\n",
    "f = open(\"1_input.txt\")\n",
    "# f = testinput\n",
    "sum = 0\n",
    "for l in f:\n",
    "    # print(l, get_cal(l))\n",
    "    sum += get_cal(l)\n",
    "print(sum)"
   ]
  },
  {
   "cell_type": "code",
   "execution_count": 9,
   "id": "9326c844-f098-4ad1-a7c0-60fe5e796d2e",
   "metadata": {},
   "outputs": [],
   "source": [
    "from io import StringIO\n",
    "\n",
    "inputstr = \"\"\"two1nine\n",
    "eightwothree\n",
    "abcone2threexyz\n",
    "xtwone3four\n",
    "4nineeightseven2\n",
    "zoneight234\n",
    "7pqrstsixteen\n",
    "\"\"\"\n",
    "testinput = StringIO(inputstr)\n",
    "\n",
    "digits = {\n",
    "    \"one\": \"1\",\n",
    "    \"two\": \"2\",\n",
    "    \"three\": \"3\",\n",
    "    \"four\": \"4\",\n",
    "    \"five\": \"5\",\n",
    "    \"six\": \"6\",\n",
    "    \"seven\": \"7\",\n",
    "    \"eight\": \"8\",\n",
    "    \"nine\": \"9\",\n",
    "}\n",
    "\n",
    "\n",
    "def isdigit(s, reverse=False):\n",
    "    if s[0].isdigit():\n",
    "        return s[0]\n",
    "    for k, v in digits.items():\n",
    "        if (not reverse and s.startswith(k)) or (\n",
    "            reverse and s.startswith(k[::-1])\n",
    "        ):  \n",
    "            return v\n",
    "    return None\n",
    "\n",
    "\n",
    "def get_cal(s):\n",
    "    s_rev = s[::-1]\n",
    "    for i in range(len(s)):\n",
    "        if v := isdigit(s[i:]):\n",
    "            f = v\n",
    "            break\n",
    "    for i in range(len(s_rev)):\n",
    "        if v := isdigit(s_rev[i:], True):\n",
    "            l = v\n",
    "            break\n",
    "    return int(f + l)\n",
    "\n",
    "\n",
    "f = open(\"1_input.txt\")\n",
    "f = testinput\n",
    "sum = 0\n",
    "for l in f:\n",
    "    # print(l, get_cal(l))\n",
    "    sum += get_cal(l)\n",
    "print(sum)"
   ]
  },
  {
   "cell_type": "code",
   "execution_count": null,
   "id": "fa8603fc-bcf5-4d70-93dd-fcf18c684ecb",
   "metadata": {},
   "outputs": [],
   "source": []
  }
 ],
 "metadata": {
  "kernelspec": {
   "display_name": "Python 3 (ipykernel)",
   "language": "python",
   "name": "python3"
  },
  "language_info": {
   "codemirror_mode": {
    "name": "ipython",
    "version": 3
   },
   "file_extension": ".py",
   "mimetype": "text/x-python",
   "name": "python",
   "nbconvert_exporter": "python",
   "pygments_lexer": "ipython3",
   "version": "3.9.16"
  }
 },
 "nbformat": 4,
 "nbformat_minor": 5
}
